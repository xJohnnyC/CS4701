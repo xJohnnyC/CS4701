{
 "cells": [
  {
   "cell_type": "code",
   "execution_count": 1,
   "metadata": {},
   "outputs": [],
   "source": [
    "#John Crossman jcc395, Steven Jiang ssj54"
   ]
  },
  {
   "cell_type": "code",
   "execution_count": 2,
   "metadata": {},
   "outputs": [],
   "source": [
    "#Imports\n",
    "import qiskit\n",
    "import numpy as np\n",
    "from qiskit import QuantumCircuit, QuantumRegister, ClassicalRegister\n",
    "from qiskit import IBMQ, Aer, transpile, assemble\n",
    "from qiskit.extensions import Initialize"
   ]
  },
  {
   "cell_type": "code",
   "execution_count": 3,
   "metadata": {},
   "outputs": [],
   "source": [
    "#Class for quantum convolutional filter\n",
    "class Quanvoluter:\n",
    "    def __init__(self, kernel_size=2, stride=1):\n",
    "        self.kernel_size = kernel_size\n",
    "        self.stride = stride\n",
    "        self.thetas = np.zeros((kernel_size, kernel_size))\n",
    "        \n",
    "    #This function converts grayscale values to r_y rotation values \n",
    "    def quantum_data_encoder(self, img):\n",
    "        img = np.array(img)\n",
    "        init_thetas = img * np.pi / 2\n",
    "        return init_thetas\n",
    "    \n",
    "    #img_sec is 2 by 2 section of image\n",
    "    #This function creates out quantum circuit\n",
    "    def circuit_builder(self, img_sec, thetas = None):\n",
    "        if (thetas is None):\n",
    "            thetas = self.thetas\n",
    "        kernel_size = self.kernel_size\n",
    "        thetas = thetas.flatten()\n",
    "        \n",
    "        img_sec = img_sec.flatten()\n",
    "        qr = QuantumRegister(kernel_size * kernel_size, name=\"q\")\n",
    "        cr = ClassicalRegister(kernel_size * kernel_size, name=\"c\")\n",
    "        qc = QuantumCircuit(qr, cr)\n",
    "        qubit_i = 0\n",
    "        for img in img_sec:\n",
    "            qc.ry(img, qubit_i)\n",
    "            qubit_i += 1\n",
    "        qubit_i = 0\n",
    "        qc.barrier()\n",
    "        for theta in thetas:\n",
    "            qc.ry(theta, qubit_i)\n",
    "            qubit_i += 1\n",
    "        \n",
    "        #CNOTS\n",
    "        \n",
    "        qubit_i = 0\n",
    "        while(qubit_i < ((kernel_size * kernel_size) - 1)):\n",
    "            qc.cx(qubit_i, qubit_i + 1)\n",
    "            qubit_i += 2\n",
    "            \n",
    "        qubit_i = 1\n",
    "        while(qubit_i < ((kernel_size * kernel_size) - 1)):\n",
    "            qc.cx(qubit_i, qubit_i + 1)\n",
    "            qubit_i += 2\n",
    "        \n",
    "        #MEASUREMENTS\n",
    "        \n",
    "        qc.barrier()\n",
    "        \n",
    "        qubit_i = 0\n",
    "        while(qubit_i < ((kernel_size * kernel_size))):\n",
    "            qc.measure(qubit_i, qubit_i)\n",
    "            qubit_i += 1\n",
    "        \n",
    "        return qc\n",
    "    \n",
    "    #computes expectation of Z\n",
    "    def corr_measure(self, circ):\n",
    "        shots = 8192\n",
    "        backend = qiskit.Aer.get_backend('qasm_simulator') #change this for real quantum computer\n",
    "        qobj = assemble(circ, shots=shots)\n",
    "        result = backend.run(qobj).result()\n",
    "        counts = result.get_counts(circ)\n",
    "        sum = 0\n",
    "        for key in counts:\n",
    "            key_arr = list(key)\n",
    "            key_arr = np.array(key_arr)\n",
    "            key_arr_ints = np.array([int(x) for x in key_arr])\n",
    "            key_sum = np.sum(key_arr_ints)\n",
    "            weighted_val = ((-1)**key_sum) * counts[key]\n",
    "            sum = sum + weighted_val\n",
    "        return sum / shots\n",
    "        \n",
    "    def feature_mapper(self, img): #img is set of init thetas for the image data\n",
    "        kernel_size = self.kernel_size\n",
    "        stride = self.stride\n",
    "\n",
    "        rows, cols = np.shape(img)\n",
    "        feature_map_rows = int(((rows - kernel_size) / stride) + 1)\n",
    "        feature_map_cols = int(((cols - kernel_size) / stride) + 1)\n",
    "        feature_map = np.zeros((feature_map_rows, feature_map_cols)) \n",
    "        i = 0\n",
    "        row_offset = 0\n",
    "        col_offset = 0\n",
    "        \n",
    "        while(i < feature_map_rows * feature_map_cols):\n",
    "            img_sec = img[row_offset:(row_offset+kernel_size), col_offset:(col_offset+kernel_size)]\n",
    "            circ = self.circuit_builder(img_sec)\n",
    "            x = self.corr_measure(circ)\n",
    "            feature_map[(i // feature_map_cols), (i % feature_map_cols)] = x\n",
    "            i += 1\n",
    "            col_offset += stride\n",
    "            if (col_offset + kernel_size > cols):\n",
    "                row_offset += stride\n",
    "                col_offset = 0\n",
    "        return feature_map\n",
    "    \n",
    "    #Helper function for quantum grad calcs\n",
    "    def sub_grad_calc(self, img_sec):\n",
    "        shift = np.pi / 2\n",
    "        thetas = self.thetas\n",
    "        thetas_copy = thetas.copy()\n",
    "        grads = np.zeros(len(thetas), dtype=float)\n",
    "        print(thetas)\n",
    "        \n",
    "        for i in range(len(thetas)):\n",
    "            thetas_copy[i] += shift\n",
    "            print(thetas_copy)\n",
    "            pos_circ = self.circuit_builder(img_sec, thetas = thetas_copy)\n",
    "            thetas_copy = thetas.copy()\n",
    "            thetas_copy[i] -= shift\n",
    "            print(thetas_copy)\n",
    "            neg_circ = self.circuit_builder(img_sec, thetas = thetas_copy)\n",
    "            thetas_copy = thetas.copy()\n",
    "            grads[i] = 0.5 * (self.corr_measure(pos_circ) - self.corr_measure(neg_circ))\n",
    "        \n",
    "        return grads\n",
    "    \n",
    "    def grad_calc(self, img):\n",
    "        shift = np.pi / 2\n",
    "        thetas = self.thetas\n",
    "        thetas_copy = thetas\n",
    "        grads = np.zeros(len(thetas), dtype=float)\n",
    "        \n",
    "        #loop over all 2 by 2 windows, and add up all gradient calcs.\n",
    "        \n",
    "        kernel_size = self.kernel_size\n",
    "        stride = self.stride\n",
    "\n",
    "        rows, cols = np.shape(img)\n",
    "        feature_map_rows = int(((rows - kernel_size) / stride) + 1)\n",
    "        feature_map_cols = int(((cols - kernel_size) / stride) + 1)\n",
    "        feature_map = np.zeros((feature_map_rows, feature_map_cols)) \n",
    "        i = 0\n",
    "        row_offset = 0\n",
    "        col_offset = 0\n",
    "        \n",
    "        while(i < feature_map_rows * feature_map_cols):\n",
    "            img_sec = img[row_offset:(row_offset+kernel_size), col_offset:(col_offset+kernel_size)]\n",
    "            grads += self.sub_grad_calc(img_sec)\n",
    "            i += 1\n",
    "            col_offset += stride\n",
    "            if (col_offset + kernel_size > cols):\n",
    "                row_offset += stride\n",
    "                col_offset = 0\n",
    "        \n",
    "        return grads\n",
    "        \n",
    "    def thetas_updates(self, img):\n",
    "        grads = self.grad_calc(img)\n",
    "        self.thetas = self.thetas - grads"
   ]
  },
  {
   "cell_type": "code",
   "execution_count": 4,
   "metadata": {},
   "outputs": [],
   "source": [
    "#First, test circuit building"
   ]
  },
  {
   "cell_type": "code",
   "execution_count": 5,
   "metadata": {},
   "outputs": [],
   "source": [
    "img_sec_test = np.array([[0.5, 1], [0, 1]]) #Greyscale values"
   ]
  },
  {
   "cell_type": "code",
   "execution_count": 6,
   "metadata": {},
   "outputs": [
    {
     "data": {
      "text/plain": [
       "array([[0.5, 1. ],\n",
       "       [0. , 1. ]])"
      ]
     },
     "execution_count": 6,
     "metadata": {},
     "output_type": "execute_result"
    }
   ],
   "source": [
    "img_sec_test"
   ]
  },
  {
   "cell_type": "code",
   "execution_count": 7,
   "metadata": {},
   "outputs": [],
   "source": [
    "q_test = Quanvoluter()"
   ]
  },
  {
   "cell_type": "code",
   "execution_count": 8,
   "metadata": {},
   "outputs": [],
   "source": [
    "theta_vals_test = q_test.quantum_data_encoder(img_sec_test)"
   ]
  },
  {
   "cell_type": "code",
   "execution_count": 9,
   "metadata": {},
   "outputs": [
    {
     "data": {
      "text/plain": [
       "array([[0.78539816, 1.57079633],\n",
       "       [0.        , 1.57079633]])"
      ]
     },
     "execution_count": 9,
     "metadata": {},
     "output_type": "execute_result"
    }
   ],
   "source": [
    "theta_vals_test"
   ]
  },
  {
   "cell_type": "code",
   "execution_count": 10,
   "metadata": {},
   "outputs": [],
   "source": [
    "#quantum data encoder works!"
   ]
  },
  {
   "cell_type": "code",
   "execution_count": 11,
   "metadata": {},
   "outputs": [],
   "source": [
    "test_circ = q_test.circuit_builder(theta_vals_test)"
   ]
  },
  {
   "cell_type": "code",
   "execution_count": 12,
   "metadata": {},
   "outputs": [
    {
     "data": {
      "image/png": "[encoded data removed]",
      "text/plain": [
       "<Figure size 688.597x325.08 with 1 Axes>"
      ]
     },
     "execution_count": 12,
     "metadata": {},
     "output_type": "execute_result"
    }
   ],
   "source": [
    "test_circ.draw(output = 'mpl')"
   ]
  },
  {
   "cell_type": "code",
   "execution_count": 13,
   "metadata": {},
   "outputs": [],
   "source": [
    "#Looks like the circuit is building properly!\n",
    "#Let's test generalization to arbitrary kernel size."
   ]
  },
  {
   "cell_type": "code",
   "execution_count": 14,
   "metadata": {},
   "outputs": [],
   "source": [
    "q_test_big = Quanvoluter(kernel_size = 4)"
   ]
  },
  {
   "cell_type": "code",
   "execution_count": 15,
   "metadata": {},
   "outputs": [],
   "source": [
    "img_vals_test_big = [[1, 1, 0, 0.5], [1, 1, 0, 0.5], [0.5, 1, 0, 1],  [1, 1, 1, 1]]"
   ]
  },
  {
   "cell_type": "code",
   "execution_count": 16,
   "metadata": {},
   "outputs": [],
   "source": [
    "theta_vals_test_big = q_test_big.quantum_data_encoder(img_vals_test_big)"
   ]
  },
  {
   "cell_type": "code",
   "execution_count": 17,
   "metadata": {},
   "outputs": [
    {
     "data": {
      "text/plain": [
       "array([[1.57079633, 1.57079633, 0.        , 0.78539816],\n",
       "       [1.57079633, 1.57079633, 0.        , 0.78539816],\n",
       "       [0.78539816, 1.57079633, 0.        , 1.57079633],\n",
       "       [1.57079633, 1.57079633, 1.57079633, 1.57079633]])"
      ]
     },
     "execution_count": 17,
     "metadata": {},
     "output_type": "execute_result"
    }
   ],
   "source": [
    "theta_vals_test_big"
   ]
  },
  {
   "cell_type": "code",
   "execution_count": 18,
   "metadata": {},
   "outputs": [],
   "source": [
    "test_circ_big = q_test_big.circuit_builder(theta_vals_test_big)"
   ]
  },
  {
   "cell_type": "code",
   "execution_count": 19,
   "metadata": {},
   "outputs": [
    {
     "data": {
      "image/png": "[encoded data removed]",
      "text/plain": [
       "<Figure size 1424.12x1047.48 with 1 Axes>"
      ]
     },
     "execution_count": 19,
     "metadata": {},
     "output_type": "execute_result"
    }
   ],
   "source": [
    "test_circ_big.draw(output='mpl')"
   ]
  },
  {
   "cell_type": "code",
   "execution_count": 20,
   "metadata": {},
   "outputs": [],
   "source": [
    "#It works!"
   ]
  },
  {
   "cell_type": "code",
   "execution_count": 21,
   "metadata": {},
   "outputs": [],
   "source": [
    "#Test circuit builder for a \"learned\" theta vector for second set of R_y gates"
   ]
  },
  {
   "cell_type": "code",
   "execution_count": 22,
   "metadata": {},
   "outputs": [],
   "source": [
    "q_test.thetas = np.array([np.pi, np.pi / 2, 0, 3* np.pi/2])"
   ]
  },
  {
   "cell_type": "code",
   "execution_count": 23,
   "metadata": {},
   "outputs": [],
   "source": [
    "test_circ = q_test.circuit_builder(theta_vals_test)"
   ]
  },
  {
   "cell_type": "code",
   "execution_count": 24,
   "metadata": {},
   "outputs": [
    {
     "data": {
      "image/png": "[encoded data removed]",
      "text/plain": [
       "<Figure size 688.597x325.08 with 1 Axes>"
      ]
     },
     "execution_count": 24,
     "metadata": {},
     "output_type": "execute_result"
    }
   ],
   "source": [
    "test_circ.draw(output='mpl')"
   ]
  },
  {
   "cell_type": "code",
   "execution_count": 25,
   "metadata": {},
   "outputs": [],
   "source": [
    "#It works!"
   ]
  },
  {
   "cell_type": "code",
   "execution_count": 26,
   "metadata": {},
   "outputs": [],
   "source": [
    "#Test correlational measurement"
   ]
  },
  {
   "cell_type": "code",
   "execution_count": 27,
   "metadata": {},
   "outputs": [],
   "source": [
    "qr = QuantumRegister(4, name=\"q\")\n",
    "cr = ClassicalRegister(4, name=\"c\")\n",
    "special_circ = QuantumCircuit(qr, cr)"
   ]
  },
  {
   "cell_type": "code",
   "execution_count": 28,
   "metadata": {},
   "outputs": [
    {
     "data": {
      "text/plain": [
       "<qiskit.circuit.instructionset.InstructionSet at 0x1ce18737b38>"
      ]
     },
     "execution_count": 28,
     "metadata": {},
     "output_type": "execute_result"
    }
   ],
   "source": [
    "special_circ.x(0)"
   ]
  },
  {
   "cell_type": "code",
   "execution_count": 29,
   "metadata": {},
   "outputs": [
    {
     "data": {
      "text/plain": [
       "<qiskit.circuit.instructionset.InstructionSet at 0x1ce18737668>"
      ]
     },
     "execution_count": 29,
     "metadata": {},
     "output_type": "execute_result"
    }
   ],
   "source": [
    "special_circ.barrier()"
   ]
  },
  {
   "cell_type": "code",
   "execution_count": 30,
   "metadata": {},
   "outputs": [
    {
     "data": {
      "text/plain": [
       "<qiskit.circuit.instructionset.InstructionSet at 0x1ce1865cb70>"
      ]
     },
     "execution_count": 30,
     "metadata": {},
     "output_type": "execute_result"
    }
   ],
   "source": [
    "special_circ.measure(0, 0)\n",
    "special_circ.measure(1, 1)\n",
    "special_circ.measure(2, 2)\n",
    "special_circ.measure(3, 3)"
   ]
  },
  {
   "cell_type": "code",
   "execution_count": 31,
   "metadata": {},
   "outputs": [
    {
     "data": {
      "image/png": "[encoded data removed]",
      "text/plain": [
       "<Figure size 447.797x325.08 with 1 Axes>"
      ]
     },
     "execution_count": 31,
     "metadata": {},
     "output_type": "execute_result"
    }
   ],
   "source": [
    "special_circ.draw(output='mpl')"
   ]
  },
  {
   "cell_type": "code",
   "execution_count": 32,
   "metadata": {},
   "outputs": [
    {
     "data": {
      "text/plain": [
       "-1.0"
      ]
     },
     "execution_count": 32,
     "metadata": {},
     "output_type": "execute_result"
    }
   ],
   "source": [
    "q_test.corr_measure(special_circ)"
   ]
  },
  {
   "cell_type": "code",
   "execution_count": 33,
   "metadata": {},
   "outputs": [],
   "source": [
    "#negative one as expected. Next test should be positive one."
   ]
  },
  {
   "cell_type": "code",
   "execution_count": 34,
   "metadata": {},
   "outputs": [],
   "source": [
    "qr = QuantumRegister(4, name=\"q\")\n",
    "cr = ClassicalRegister(4, name=\"c\")\n",
    "special_circ = QuantumCircuit(qr, cr)"
   ]
  },
  {
   "cell_type": "code",
   "execution_count": 35,
   "metadata": {},
   "outputs": [
    {
     "data": {
      "image/png": "[encoded data removed]",
      "text/plain": [
       "<Figure size 447.797x325.08 with 1 Axes>"
      ]
     },
     "execution_count": 35,
     "metadata": {},
     "output_type": "execute_result"
    }
   ],
   "source": [
    "special_circ.x(0)\n",
    "special_circ.x(1)\n",
    "special_circ.barrier()\n",
    "special_circ.measure(0, 0)\n",
    "special_circ.measure(1, 1)\n",
    "special_circ.measure(2, 2)\n",
    "special_circ.measure(3, 3)\n",
    "special_circ.draw(output='mpl')"
   ]
  },
  {
   "cell_type": "code",
   "execution_count": 36,
   "metadata": {},
   "outputs": [
    {
     "data": {
      "text/plain": [
       "1.0"
      ]
     },
     "execution_count": 36,
     "metadata": {},
     "output_type": "execute_result"
    }
   ],
   "source": [
    "q_test.corr_measure(special_circ)"
   ]
  },
  {
   "cell_type": "code",
   "execution_count": 37,
   "metadata": {},
   "outputs": [],
   "source": [
    "#corr_measure works!"
   ]
  },
  {
   "cell_type": "code",
   "execution_count": 38,
   "metadata": {},
   "outputs": [],
   "source": [
    "#test subgradient"
   ]
  },
  {
   "cell_type": "code",
   "execution_count": 39,
   "metadata": {},
   "outputs": [],
   "source": [
    "q_test.thetas = np.array([0.0, 0.0, 0.0, 0.0])"
   ]
  },
  {
   "cell_type": "code",
   "execution_count": 40,
   "metadata": {},
   "outputs": [
    {
     "data": {
      "text/plain": [
       "array([0., 0., 0., 0.])"
      ]
     },
     "execution_count": 40,
     "metadata": {},
     "output_type": "execute_result"
    }
   ],
   "source": [
    "q_test.thetas"
   ]
  },
  {
   "cell_type": "code",
   "execution_count": 41,
   "metadata": {},
   "outputs": [
    {
     "name": "stdout",
     "output_type": "stream",
     "text": [
      "[0. 0. 0. 0.]\n",
      "[1.57079633 0.         0.         0.        ]\n",
      "[-1.57079633  0.          0.          0.        ]\n",
      "[0.         1.57079633 0.         0.        ]\n",
      "[ 0.         -1.57079633  0.          0.        ]\n",
      "[0.         0.         1.57079633 0.        ]\n",
      "[ 0.          0.         -1.57079633  0.        ]\n",
      "[0.         0.         0.         1.57079633]\n",
      "[ 0.          0.          0.         -1.57079633]\n"
     ]
    },
    {
     "data": {
      "text/plain": [
       "array([0.0065918 , 0.        , 0.        , 0.00256348])"
      ]
     },
     "execution_count": 41,
     "metadata": {},
     "output_type": "execute_result"
    }
   ],
   "source": [
    "q_test.sub_grad_calc(np.array([0.0,0.0,0.0,0.0]))"
   ]
  },
  {
   "cell_type": "code",
   "execution_count": 42,
   "metadata": {},
   "outputs": [],
   "source": [
    "#sub_grad works!"
   ]
  },
  {
   "cell_type": "code",
   "execution_count": 43,
   "metadata": {},
   "outputs": [],
   "source": [
    "test_img = np.array([[0.0,0.0],[0.0,0.0]])"
   ]
  },
  {
   "cell_type": "code",
   "execution_count": 44,
   "metadata": {},
   "outputs": [
    {
     "name": "stdout",
     "output_type": "stream",
     "text": [
      "[0. 0. 0. 0.]\n",
      "[1.57079633 0.         0.         0.        ]\n",
      "[-1.57079633  0.          0.          0.        ]\n",
      "[0.         1.57079633 0.         0.        ]\n",
      "[ 0.         -1.57079633  0.          0.        ]\n",
      "[0.         0.         1.57079633 0.        ]\n",
      "[ 0.          0.         -1.57079633  0.        ]\n",
      "[0.         0.         0.         1.57079633]\n",
      "[ 0.          0.          0.         -1.57079633]\n"
     ]
    }
   ],
   "source": [
    "q_test.thetas_updates(test_img)"
   ]
  },
  {
   "cell_type": "code",
   "execution_count": 45,
   "metadata": {},
   "outputs": [
    {
     "data": {
      "text/plain": [
       "array([0.00402832, 0.        , 0.        , 0.00109863])"
      ]
     },
     "execution_count": 45,
     "metadata": {},
     "output_type": "execute_result"
    }
   ],
   "source": [
    "q_test.thetas"
   ]
  },
  {
   "cell_type": "code",
   "execution_count": 46,
   "metadata": {},
   "outputs": [],
   "source": [
    "#This works!"
   ]
  },
  {
   "cell_type": "code",
   "execution_count": 47,
   "metadata": {},
   "outputs": [],
   "source": [
    "#finally, test feature mapper"
   ]
  },
  {
   "cell_type": "code",
   "execution_count": 48,
   "metadata": {},
   "outputs": [],
   "source": [
    "test_img = np.array([[1, 1, 1, 1, 1], [1, 1, 1, 1, 1], [1, 1, 1, 1, 1], [1, 1, 1, 1, 1], [1, 1, 1, 1, 1]])"
   ]
  },
  {
   "cell_type": "code",
   "execution_count": 49,
   "metadata": {},
   "outputs": [
    {
     "data": {
      "text/plain": [
       "array([[1, 1, 1, 1, 1],\n",
       "       [1, 1, 1, 1, 1],\n",
       "       [1, 1, 1, 1, 1],\n",
       "       [1, 1, 1, 1, 1],\n",
       "       [1, 1, 1, 1, 1]])"
      ]
     },
     "execution_count": 49,
     "metadata": {},
     "output_type": "execute_result"
    }
   ],
   "source": [
    "test_img"
   ]
  },
  {
   "cell_type": "code",
   "execution_count": 50,
   "metadata": {},
   "outputs": [],
   "source": [
    "test_img = q_test.quantum_data_encoder(test_img)"
   ]
  },
  {
   "cell_type": "code",
   "execution_count": 51,
   "metadata": {},
   "outputs": [
    {
     "data": {
      "text/plain": [
       "array([[1.57079633, 1.57079633, 1.57079633, 1.57079633, 1.57079633],\n",
       "       [1.57079633, 1.57079633, 1.57079633, 1.57079633, 1.57079633],\n",
       "       [1.57079633, 1.57079633, 1.57079633, 1.57079633, 1.57079633],\n",
       "       [1.57079633, 1.57079633, 1.57079633, 1.57079633, 1.57079633],\n",
       "       [1.57079633, 1.57079633, 1.57079633, 1.57079633, 1.57079633]])"
      ]
     },
     "execution_count": 51,
     "metadata": {},
     "output_type": "execute_result"
    }
   ],
   "source": [
    "test_img"
   ]
  },
  {
   "cell_type": "code",
   "execution_count": 52,
   "metadata": {},
   "outputs": [],
   "source": [
    "q_test.thetas = np.array([-np.pi/2, -np.pi/2, -np.pi/2, -np.pi/2])"
   ]
  },
  {
   "cell_type": "code",
   "execution_count": 53,
   "metadata": {},
   "outputs": [],
   "source": [
    "#should map everything to one."
   ]
  },
  {
   "cell_type": "code",
   "execution_count": 54,
   "metadata": {},
   "outputs": [
    {
     "data": {
      "text/plain": [
       "array([[1., 1., 1., 1.],\n",
       "       [1., 1., 1., 1.],\n",
       "       [1., 1., 1., 1.],\n",
       "       [1., 1., 1., 1.]])"
      ]
     },
     "execution_count": 54,
     "metadata": {},
     "output_type": "execute_result"
    }
   ],
   "source": [
    "q_test.feature_mapper(test_img)"
   ]
  },
  {
   "cell_type": "code",
   "execution_count": 55,
   "metadata": {},
   "outputs": [],
   "source": [
    "q_test.thetas = np.array([0.0, 0.0, 0.0, 0.0])"
   ]
  },
  {
   "cell_type": "code",
   "execution_count": 56,
   "metadata": {},
   "outputs": [
    {
     "data": {
      "text/plain": [
       "array([[ 0.00024414, -0.01855469, -0.01342773, -0.02514648],\n",
       "       [ 0.00537109, -0.00195312,  0.00708008, -0.00805664],\n",
       "       [ 0.00512695,  0.00024414, -0.00878906,  0.00488281],\n",
       "       [-0.01733398, -0.02172852, -0.00512695, -0.00512695]])"
      ]
     },
     "execution_count": 56,
     "metadata": {},
     "output_type": "execute_result"
    }
   ],
   "source": [
    "q_test.feature_mapper(test_img)"
   ]
  },
  {
   "cell_type": "code",
   "execution_count": 146,
   "metadata": {},
   "outputs": [],
   "source": [
    "#The quantum convolutional filter appears to be working."
   ]
  },
  {
   "cell_type": "code",
   "execution_count": 57,
   "metadata": {},
   "outputs": [],
   "source": [
    "import numpy as np\n",
    "import matplotlib.pyplot as plt\n",
    "\n",
    "import torch\n",
    "from torch.autograd import Function\n",
    "from torchvision import datasets, transforms\n",
    "import torch.optim as optim\n",
    "import torch.nn as nn\n",
    "import torch.nn.functional as F\n",
    "\n",
    "import qiskit\n",
    "from qiskit import transpile, assemble\n",
    "from qiskit.visualization import *"
   ]
  },
  {
   "cell_type": "code",
   "execution_count": 58,
   "metadata": {},
   "outputs": [],
   "source": [
    "import torch\n",
    "import torchvision"
   ]
  },
  {
   "cell_type": "code",
   "execution_count": 59,
   "metadata": {},
   "outputs": [],
   "source": [
    "import tensorflow as tf"
   ]
  },
  {
   "cell_type": "code",
   "execution_count": 60,
   "metadata": {},
   "outputs": [],
   "source": [
    "#Hybrid network class for a single convolutional layer.\n",
    "class Hybrid(nn.Module):\n",
    "    def __init__(self):\n",
    "        super(Net, self).__init__()\n",
    "        self.conv1 = Quanvoluter()\n",
    "        self.fc1 = nn.Linear(169, 25)\n",
    "        self.fc2 = nn.Linear(25, 10)\n",
    "\n",
    "    def forward(self, x):\n",
    "        x = F.relu(F.max_pool2d(torch.from_numpy(np.array([self.conv1.feature_mapper(x)])), 2))\n",
    "        x = x.view(-1, 169)\n",
    "        x = F.relu(self.fc1(x.float()))\n",
    "        x = self.fc2(x)\n",
    "        return F.log_softmax(x)"
   ]
  },
  {
   "cell_type": "code",
   "execution_count": 61,
   "metadata": {},
   "outputs": [],
   "source": [
    "#Note: the rest of the blow code is for the classical network and is largely taken from \n",
    "#\"https://nextjournal.com/gkoehler/pytorch-mnist.\"\n",
    "#We were going to use the classical network solely to test it against the hybrid CNN. \n",
    "#However, we have modified the network module to include the right number of convolutional layers and fully connected \n",
    "#layers/neurons we planned on using. However, the rest of the code is largely the same as that found at\n",
    "#\"https://nextjournal.com/gkoehler/pytorch-mnist.\"\n",
    "#Credit: Gregor Koehler Feb 17, 2020"
   ]
  },
  {
   "cell_type": "code",
   "execution_count": 62,
   "metadata": {},
   "outputs": [],
   "source": [
    "#Modified class for CCNN"
   ]
  },
  {
   "cell_type": "code",
   "execution_count": 63,
   "metadata": {},
   "outputs": [],
   "source": [
    "class CNet(nn.Module):\n",
    "    def __init__(self):\n",
    "        super(CNet, self).__init__()\n",
    "        self.conv1 = nn.Conv2d(1, 1, kernel_size=2)\n",
    "        self.conv2 = nn.Conv2d(1, 1, kernel_size=2)\n",
    "        self.fc1 = nn.Linear(36, 25)\n",
    "        self.fc2 = nn.Linear(25, 10)\n",
    "\n",
    "    def forward(self, x):\n",
    "        x = F.relu(F.max_pool2d(self.conv1(x), 2))\n",
    "        x = F.relu(F.max_pool2d(self.conv2(x), 2))\n",
    "        x = x.view(-1, 36)\n",
    "        x = F.relu(self.fc1(x))\n",
    "        x = self.fc2(x)\n",
    "        return F.log_softmax(x)"
   ]
  },
  {
   "cell_type": "code",
   "execution_count": 64,
   "metadata": {},
   "outputs": [],
   "source": [
    "net = CNet() #net = Hybrid()\n",
    "optimizer = optim.SGD(net.parameters(), lr=0.001, momentum=0.9)"
   ]
  },
  {
   "cell_type": "code",
   "execution_count": 65,
   "metadata": {},
   "outputs": [
    {
     "data": {
      "text/plain": [
       "<torch._C.Generator at 0x1463d987ab0>"
      ]
     },
     "execution_count": 65,
     "metadata": {},
     "output_type": "execute_result"
    }
   ],
   "source": [
    "n_epochs = 3\n",
    "batch_size_train = 64\n",
    "batch_size_test = 1000\n",
    "log_interval = 10\n",
    "\n",
    "random_seed = 1\n",
    "torch.backends.cudnn.enabled = False\n",
    "torch.manual_seed(random_seed)"
   ]
  },
  {
   "cell_type": "code",
   "execution_count": 66,
   "metadata": {},
   "outputs": [],
   "source": [
    "train_loader = torch.utils.data.DataLoader(\n",
    "  torchvision.datasets.MNIST('/files/', train=True, download=True,\n",
    "                             transform=torchvision.transforms.Compose([\n",
    "                               torchvision.transforms.ToTensor(),\n",
    "                               torchvision.transforms.Normalize(\n",
    "                                 (0.1307,), (0.3081,)) #mean, std normalization\n",
    "                             ])),\n",
    "  batch_size=batch_size_train, shuffle=True)\n",
    "\n",
    "test_loader = torch.utils.data.DataLoader(\n",
    "  torchvision.datasets.MNIST('/files/', train=False, download=True,\n",
    "                             transform=torchvision.transforms.Compose([\n",
    "                               torchvision.transforms.ToTensor(),\n",
    "                               torchvision.transforms.Normalize(\n",
    "                                 (0.1307,), (0.3081,))\n",
    "                             ])),\n",
    "  batch_size=batch_size_test, shuffle=True)"
   ]
  },
  {
   "cell_type": "code",
   "execution_count": 67,
   "metadata": {},
   "outputs": [],
   "source": [
    "train_losses = []\n",
    "train_counter = []\n",
    "test_losses = []\n",
    "test_counter = [i*len(train_loader.dataset) for i in range(n_epochs + 1)]"
   ]
  },
  {
   "cell_type": "code",
   "execution_count": 68,
   "metadata": {},
   "outputs": [],
   "source": [
    "def train(epoch):\n",
    "    net.train\n",
    "    for batch_idx, (data, target) in enumerate(train_loader):\n",
    "        optimizer.zero_grad()\n",
    "        output = net(data)\n",
    "        loss = F.nll_loss(output, target)\n",
    "        loss.backward()\n",
    "        optimizer.step()\n",
    "        #net.conv1.thetas_updates(data) #back-propagation for the QCNN\n",
    "        if batch_idx % log_interval == 0:\n",
    "            print('Train Epoch: {} [{}/{} ({:.0f}%)]\\tLoss: {:.6f}'.format(epoch, batch_idx * len(data), len(train_loader.dataset), 100. * batch_idx / len(train_loader), loss.item()))\n",
    "            train_losses.append(loss.item())\n",
    "            train_counter.append((batch_idx*64) + ((epoch-1)*len(train_loader.dataset)))"
   ]
  },
  {
   "cell_type": "code",
   "execution_count": 69,
   "metadata": {},
   "outputs": [],
   "source": [
    "def test():\n",
    "    net.eval()\n",
    "    test_loss = 0\n",
    "    correct = 0\n",
    "    with torch.no_grad():\n",
    "        for data, target in test_loader:\n",
    "            output = net(data)\n",
    "            test_loss += F.nll_loss(output, target, size_average=False).item()\n",
    "            pred = output.data.max(1, keepdim=True)[1]\n",
    "            correct += pred.eq(target.data.view_as(pred)).sum()\n",
    "    test_loss /= len(test_loader.dataset)\n",
    "    test_losses.append(test_loss)\n",
    "    print('\\nTest set: Avg. loss: {:.4f}, Accuracy: {}/{} ({:.0f}%)\\n'.format(\n",
    "    test_loss, correct, len(test_loader.dataset),\n",
    "    100. * correct / len(test_loader.dataset)))"
   ]
  },
  {
   "cell_type": "code",
   "execution_count": 70,
   "metadata": {},
   "outputs": [
    {
     "name": "stderr",
     "output_type": "stream",
     "text": [
      "C:\\Users\\johnn\\.julia\\conda\\3\\lib\\site-packages\\ipykernel_launcher.py:15: UserWarning: Implicit dimension choice for log_softmax has been deprecated. Change the call to include dim=X as an argument.\n",
      "  from ipykernel import kernelapp as app\n",
      "C:\\Users\\johnn\\.julia\\conda\\3\\lib\\site-packages\\torch\\nn\\_reduction.py:42: UserWarning: size_average and reduce args will be deprecated, please use reduction='sum' instead.\n",
      "  warnings.warn(warning.format(ret))\n"
     ]
    },
    {
     "name": "stdout",
     "output_type": "stream",
     "text": [
      "\n",
      "Test set: Avg. loss: 2.3059, Accuracy: 1044/10000 (10%)\n",
      "\n",
      "Train Epoch: 1 [0/60000 (0%)]\tLoss: 2.317006\n",
      "Train Epoch: 1 [640/60000 (1%)]\tLoss: 2.276374\n",
      "Train Epoch: 1 [1280/60000 (2%)]\tLoss: 2.284849\n",
      "Train Epoch: 1 [1920/60000 (3%)]\tLoss: 2.299467\n",
      "Train Epoch: 1 [2560/60000 (4%)]\tLoss: 2.281609\n",
      "Train Epoch: 1 [3200/60000 (5%)]\tLoss: 2.276863\n",
      "Train Epoch: 1 [3840/60000 (6%)]\tLoss: 2.286090\n",
      "Train Epoch: 1 [4480/60000 (7%)]\tLoss: 2.300937\n",
      "Train Epoch: 1 [5120/60000 (9%)]\tLoss: 2.290903\n",
      "Train Epoch: 1 [5760/60000 (10%)]\tLoss: 2.308707\n",
      "Train Epoch: 1 [6400/60000 (11%)]\tLoss: 2.300022\n",
      "Train Epoch: 1 [7040/60000 (12%)]\tLoss: 2.301605\n",
      "Train Epoch: 1 [7680/60000 (13%)]\tLoss: 2.281618\n",
      "Train Epoch: 1 [8320/60000 (14%)]\tLoss: 2.284157\n",
      "Train Epoch: 1 [8960/60000 (15%)]\tLoss: 2.272540\n",
      "Train Epoch: 1 [9600/60000 (16%)]\tLoss: 2.283509\n",
      "Train Epoch: 1 [10240/60000 (17%)]\tLoss: 2.271096\n",
      "Train Epoch: 1 [10880/60000 (18%)]\tLoss: 2.267133\n",
      "Train Epoch: 1 [11520/60000 (19%)]\tLoss: 2.290675\n",
      "Train Epoch: 1 [12160/60000 (20%)]\tLoss: 2.248080\n",
      "Train Epoch: 1 [12800/60000 (21%)]\tLoss: 2.276143\n",
      "Train Epoch: 1 [13440/60000 (22%)]\tLoss: 2.248928\n",
      "Train Epoch: 1 [14080/60000 (23%)]\tLoss: 2.211706\n",
      "Train Epoch: 1 [14720/60000 (25%)]\tLoss: 2.241568\n",
      "Train Epoch: 1 [15360/60000 (26%)]\tLoss: 2.213793\n",
      "Train Epoch: 1 [16000/60000 (27%)]\tLoss: 2.215102\n",
      "Train Epoch: 1 [16640/60000 (28%)]\tLoss: 2.249144\n",
      "Train Epoch: 1 [17280/60000 (29%)]\tLoss: 2.212794\n",
      "Train Epoch: 1 [17920/60000 (30%)]\tLoss: 2.231268\n",
      "Train Epoch: 1 [18560/60000 (31%)]\tLoss: 2.209783\n",
      "Train Epoch: 1 [19200/60000 (32%)]\tLoss: 2.186702\n",
      "Train Epoch: 1 [19840/60000 (33%)]\tLoss: 2.136395\n",
      "Train Epoch: 1 [20480/60000 (34%)]\tLoss: 2.158204\n",
      "Train Epoch: 1 [21120/60000 (35%)]\tLoss: 2.139778\n",
      "Train Epoch: 1 [21760/60000 (36%)]\tLoss: 2.051205\n",
      "Train Epoch: 1 [22400/60000 (37%)]\tLoss: 2.079193\n",
      "Train Epoch: 1 [23040/60000 (38%)]\tLoss: 1.940106\n",
      "Train Epoch: 1 [23680/60000 (39%)]\tLoss: 1.853021\n",
      "Train Epoch: 1 [24320/60000 (41%)]\tLoss: 1.737386\n",
      "Train Epoch: 1 [24960/60000 (42%)]\tLoss: 1.739511\n",
      "Train Epoch: 1 [25600/60000 (43%)]\tLoss: 1.641935\n",
      "Train Epoch: 1 [26240/60000 (44%)]\tLoss: 1.530867\n",
      "Train Epoch: 1 [26880/60000 (45%)]\tLoss: 1.522743\n",
      "Train Epoch: 1 [27520/60000 (46%)]\tLoss: 1.381263\n",
      "Train Epoch: 1 [28160/60000 (47%)]\tLoss: 1.164993\n",
      "Train Epoch: 1 [28800/60000 (48%)]\tLoss: 1.002063\n",
      "Train Epoch: 1 [29440/60000 (49%)]\tLoss: 0.950321\n",
      "Train Epoch: 1 [30080/60000 (50%)]\tLoss: 0.932801\n",
      "Train Epoch: 1 [30720/60000 (51%)]\tLoss: 0.894762\n",
      "Train Epoch: 1 [31360/60000 (52%)]\tLoss: 0.844923\n",
      "Train Epoch: 1 [32000/60000 (53%)]\tLoss: 0.929125\n",
      "Train Epoch: 1 [32640/60000 (54%)]\tLoss: 0.644575\n",
      "Train Epoch: 1 [33280/60000 (55%)]\tLoss: 0.885385\n",
      "Train Epoch: 1 [33920/60000 (57%)]\tLoss: 0.826786\n",
      "Train Epoch: 1 [34560/60000 (58%)]\tLoss: 0.686843\n",
      "Train Epoch: 1 [35200/60000 (59%)]\tLoss: 0.590488\n",
      "Train Epoch: 1 [35840/60000 (60%)]\tLoss: 0.677508\n",
      "Train Epoch: 1 [36480/60000 (61%)]\tLoss: 0.903768\n",
      "Train Epoch: 1 [37120/60000 (62%)]\tLoss: 0.716876\n",
      "Train Epoch: 1 [37760/60000 (63%)]\tLoss: 0.659394\n",
      "Train Epoch: 1 [38400/60000 (64%)]\tLoss: 0.467410\n",
      "Train Epoch: 1 [39040/60000 (65%)]\tLoss: 0.543620\n",
      "Train Epoch: 1 [39680/60000 (66%)]\tLoss: 0.695765\n",
      "Train Epoch: 1 [40320/60000 (67%)]\tLoss: 0.708018\n",
      "Train Epoch: 1 [40960/60000 (68%)]\tLoss: 0.553371\n",
      "Train Epoch: 1 [41600/60000 (69%)]\tLoss: 0.746657\n",
      "Train Epoch: 1 [42240/60000 (70%)]\tLoss: 0.605082\n",
      "Train Epoch: 1 [42880/60000 (71%)]\tLoss: 0.402656\n",
      "Train Epoch: 1 [43520/60000 (72%)]\tLoss: 0.374308\n",
      "Train Epoch: 1 [44160/60000 (74%)]\tLoss: 0.566640\n",
      "Train Epoch: 1 [44800/60000 (75%)]\tLoss: 0.638361\n",
      "Train Epoch: 1 [45440/60000 (76%)]\tLoss: 0.290819\n",
      "Train Epoch: 1 [46080/60000 (77%)]\tLoss: 0.440146\n",
      "Train Epoch: 1 [46720/60000 (78%)]\tLoss: 0.498616\n",
      "Train Epoch: 1 [47360/60000 (79%)]\tLoss: 0.470777\n",
      "Train Epoch: 1 [48000/60000 (80%)]\tLoss: 0.528002\n",
      "Train Epoch: 1 [48640/60000 (81%)]\tLoss: 0.555432\n",
      "Train Epoch: 1 [49280/60000 (82%)]\tLoss: 0.794076\n",
      "Train Epoch: 1 [49920/60000 (83%)]\tLoss: 0.553197\n",
      "Train Epoch: 1 [50560/60000 (84%)]\tLoss: 0.815044\n",
      "Train Epoch: 1 [51200/60000 (85%)]\tLoss: 0.471096\n",
      "Train Epoch: 1 [51840/60000 (86%)]\tLoss: 0.419146\n",
      "Train Epoch: 1 [52480/60000 (87%)]\tLoss: 0.452945\n",
      "Train Epoch: 1 [53120/60000 (88%)]\tLoss: 0.462643\n",
      "Train Epoch: 1 [53760/60000 (90%)]\tLoss: 0.398157\n",
      "Train Epoch: 1 [54400/60000 (91%)]\tLoss: 0.340942\n",
      "Train Epoch: 1 [55040/60000 (92%)]\tLoss: 0.497506\n",
      "Train Epoch: 1 [55680/60000 (93%)]\tLoss: 0.274524\n",
      "Train Epoch: 1 [56320/60000 (94%)]\tLoss: 0.408104\n",
      "Train Epoch: 1 [56960/60000 (95%)]\tLoss: 0.720681\n",
      "Train Epoch: 1 [57600/60000 (96%)]\tLoss: 0.441772\n",
      "Train Epoch: 1 [58240/60000 (97%)]\tLoss: 0.447398\n",
      "Train Epoch: 1 [58880/60000 (98%)]\tLoss: 0.409275\n",
      "Train Epoch: 1 [59520/60000 (99%)]\tLoss: 0.356630\n",
      "\n",
      "Test set: Avg. loss: 0.4804, Accuracy: 8512/10000 (85%)\n",
      "\n",
      "Train Epoch: 2 [0/60000 (0%)]\tLoss: 0.311900\n",
      "Train Epoch: 2 [640/60000 (1%)]\tLoss: 0.716672\n",
      "Train Epoch: 2 [1280/60000 (2%)]\tLoss: 0.408842\n",
      "Train Epoch: 2 [1920/60000 (3%)]\tLoss: 0.507536\n",
      "Train Epoch: 2 [2560/60000 (4%)]\tLoss: 0.766106\n",
      "Train Epoch: 2 [3200/60000 (5%)]\tLoss: 0.408973\n",
      "Train Epoch: 2 [3840/60000 (6%)]\tLoss: 0.424057\n",
      "Train Epoch: 2 [4480/60000 (7%)]\tLoss: 0.440319\n",
      "Train Epoch: 2 [5120/60000 (9%)]\tLoss: 0.444634\n",
      "Train Epoch: 2 [5760/60000 (10%)]\tLoss: 0.866229\n",
      "Train Epoch: 2 [6400/60000 (11%)]\tLoss: 0.656391\n",
      "Train Epoch: 2 [7040/60000 (12%)]\tLoss: 0.480387\n",
      "Train Epoch: 2 [7680/60000 (13%)]\tLoss: 0.402641\n",
      "Train Epoch: 2 [8320/60000 (14%)]\tLoss: 0.379849\n",
      "Train Epoch: 2 [8960/60000 (15%)]\tLoss: 0.375752\n",
      "Train Epoch: 2 [9600/60000 (16%)]\tLoss: 0.429873\n",
      "Train Epoch: 2 [10240/60000 (17%)]\tLoss: 0.512670\n",
      "Train Epoch: 2 [10880/60000 (18%)]\tLoss: 0.532292\n",
      "Train Epoch: 2 [11520/60000 (19%)]\tLoss: 0.504641\n",
      "Train Epoch: 2 [12160/60000 (20%)]\tLoss: 0.396313\n",
      "Train Epoch: 2 [12800/60000 (21%)]\tLoss: 0.556257\n",
      "Train Epoch: 2 [13440/60000 (22%)]\tLoss: 0.528019\n",
      "Train Epoch: 2 [14080/60000 (23%)]\tLoss: 0.429725\n",
      "Train Epoch: 2 [14720/60000 (25%)]\tLoss: 0.375599\n",
      "Train Epoch: 2 [15360/60000 (26%)]\tLoss: 0.396417\n",
      "Train Epoch: 2 [16000/60000 (27%)]\tLoss: 0.205615\n",
      "Train Epoch: 2 [16640/60000 (28%)]\tLoss: 0.641002\n",
      "Train Epoch: 2 [17280/60000 (29%)]\tLoss: 0.335170\n",
      "Train Epoch: 2 [17920/60000 (30%)]\tLoss: 0.584923\n",
      "Train Epoch: 2 [18560/60000 (31%)]\tLoss: 0.380237\n",
      "Train Epoch: 2 [19200/60000 (32%)]\tLoss: 0.369711\n",
      "Train Epoch: 2 [19840/60000 (33%)]\tLoss: 0.642031\n",
      "Train Epoch: 2 [20480/60000 (34%)]\tLoss: 0.425254\n",
      "Train Epoch: 2 [21120/60000 (35%)]\tLoss: 0.415857\n",
      "Train Epoch: 2 [21760/60000 (36%)]\tLoss: 0.445800\n",
      "Train Epoch: 2 [22400/60000 (37%)]\tLoss: 0.643625\n",
      "Train Epoch: 2 [23040/60000 (38%)]\tLoss: 0.362731\n",
      "Train Epoch: 2 [23680/60000 (39%)]\tLoss: 0.483383\n",
      "Train Epoch: 2 [24320/60000 (41%)]\tLoss: 0.651412\n",
      "Train Epoch: 2 [24960/60000 (42%)]\tLoss: 0.405484\n",
      "Train Epoch: 2 [25600/60000 (43%)]\tLoss: 0.422318\n",
      "Train Epoch: 2 [26240/60000 (44%)]\tLoss: 0.424879\n",
      "Train Epoch: 2 [26880/60000 (45%)]\tLoss: 0.493845\n",
      "Train Epoch: 2 [27520/60000 (46%)]\tLoss: 0.515969\n",
      "Train Epoch: 2 [28160/60000 (47%)]\tLoss: 0.492462\n",
      "Train Epoch: 2 [28800/60000 (48%)]\tLoss: 0.332650\n",
      "Train Epoch: 2 [29440/60000 (49%)]\tLoss: 0.528572\n",
      "Train Epoch: 2 [30080/60000 (50%)]\tLoss: 0.455274\n",
      "Train Epoch: 2 [30720/60000 (51%)]\tLoss: 0.430370\n",
      "Train Epoch: 2 [31360/60000 (52%)]\tLoss: 0.417630\n",
      "Train Epoch: 2 [32000/60000 (53%)]\tLoss: 0.483221\n",
      "Train Epoch: 2 [32640/60000 (54%)]\tLoss: 0.553562\n",
      "Train Epoch: 2 [33280/60000 (55%)]\tLoss: 0.379868\n",
      "Train Epoch: 2 [33920/60000 (57%)]\tLoss: 0.368067\n",
      "Train Epoch: 2 [34560/60000 (58%)]\tLoss: 0.599905\n",
      "Train Epoch: 2 [35200/60000 (59%)]\tLoss: 0.427137\n",
      "Train Epoch: 2 [35840/60000 (60%)]\tLoss: 0.671508\n",
      "Train Epoch: 2 [36480/60000 (61%)]\tLoss: 0.451627\n",
      "Train Epoch: 2 [37120/60000 (62%)]\tLoss: 0.320496\n",
      "Train Epoch: 2 [37760/60000 (63%)]\tLoss: 0.403829\n",
      "Train Epoch: 2 [38400/60000 (64%)]\tLoss: 0.617050\n",
      "Train Epoch: 2 [39040/60000 (65%)]\tLoss: 0.463037\n",
      "Train Epoch: 2 [39680/60000 (66%)]\tLoss: 0.443129\n",
      "Train Epoch: 2 [40320/60000 (67%)]\tLoss: 0.313833\n",
      "Train Epoch: 2 [40960/60000 (68%)]\tLoss: 0.248638\n",
      "Train Epoch: 2 [41600/60000 (69%)]\tLoss: 0.313635\n",
      "Train Epoch: 2 [42240/60000 (70%)]\tLoss: 0.391667\n",
      "Train Epoch: 2 [42880/60000 (71%)]\tLoss: 0.469486\n",
      "Train Epoch: 2 [43520/60000 (72%)]\tLoss: 0.711705\n",
      "Train Epoch: 2 [44160/60000 (74%)]\tLoss: 0.281724\n",
      "Train Epoch: 2 [44800/60000 (75%)]\tLoss: 0.777245\n",
      "Train Epoch: 2 [45440/60000 (76%)]\tLoss: 0.510440\n",
      "Train Epoch: 2 [46080/60000 (77%)]\tLoss: 0.696875\n",
      "Train Epoch: 2 [46720/60000 (78%)]\tLoss: 0.544573\n",
      "Train Epoch: 2 [47360/60000 (79%)]\tLoss: 0.412184\n",
      "Train Epoch: 2 [48000/60000 (80%)]\tLoss: 0.419394\n",
      "Train Epoch: 2 [48640/60000 (81%)]\tLoss: 0.357719\n",
      "Train Epoch: 2 [49280/60000 (82%)]\tLoss: 0.453466\n",
      "Train Epoch: 2 [49920/60000 (83%)]\tLoss: 0.330466\n",
      "Train Epoch: 2 [50560/60000 (84%)]\tLoss: 0.306245\n",
      "Train Epoch: 2 [51200/60000 (85%)]\tLoss: 0.442483\n",
      "Train Epoch: 2 [51840/60000 (86%)]\tLoss: 0.495216\n",
      "Train Epoch: 2 [52480/60000 (87%)]\tLoss: 0.661913\n",
      "Train Epoch: 2 [53120/60000 (88%)]\tLoss: 0.400485\n",
      "Train Epoch: 2 [53760/60000 (90%)]\tLoss: 0.510434\n",
      "Train Epoch: 2 [54400/60000 (91%)]\tLoss: 0.716218\n",
      "Train Epoch: 2 [55040/60000 (92%)]\tLoss: 0.495436\n",
      "Train Epoch: 2 [55680/60000 (93%)]\tLoss: 0.427473\n",
      "Train Epoch: 2 [56320/60000 (94%)]\tLoss: 0.211444\n",
      "Train Epoch: 2 [56960/60000 (95%)]\tLoss: 0.446863\n",
      "Train Epoch: 2 [57600/60000 (96%)]\tLoss: 0.337923\n",
      "Train Epoch: 2 [58240/60000 (97%)]\tLoss: 0.497523\n",
      "Train Epoch: 2 [58880/60000 (98%)]\tLoss: 0.397201\n",
      "Train Epoch: 2 [59520/60000 (99%)]\tLoss: 0.482900\n",
      "\n",
      "Test set: Avg. loss: 0.4294, Accuracy: 8626/10000 (86%)\n",
      "\n",
      "Train Epoch: 3 [0/60000 (0%)]\tLoss: 0.269598\n",
      "Train Epoch: 3 [640/60000 (1%)]\tLoss: 0.548275\n",
      "Train Epoch: 3 [1280/60000 (2%)]\tLoss: 0.303664\n",
      "Train Epoch: 3 [1920/60000 (3%)]\tLoss: 0.474222\n",
      "Train Epoch: 3 [2560/60000 (4%)]\tLoss: 0.475376\n",
      "Train Epoch: 3 [3200/60000 (5%)]\tLoss: 0.464051\n",
      "Train Epoch: 3 [3840/60000 (6%)]\tLoss: 0.396434\n",
      "Train Epoch: 3 [4480/60000 (7%)]\tLoss: 0.312276\n",
      "Train Epoch: 3 [5120/60000 (9%)]\tLoss: 0.473323\n",
      "Train Epoch: 3 [5760/60000 (10%)]\tLoss: 0.441715\n",
      "Train Epoch: 3 [6400/60000 (11%)]\tLoss: 0.528105\n",
      "Train Epoch: 3 [7040/60000 (12%)]\tLoss: 0.363129\n",
      "Train Epoch: 3 [7680/60000 (13%)]\tLoss: 0.434546\n",
      "Train Epoch: 3 [8320/60000 (14%)]\tLoss: 0.521688\n",
      "Train Epoch: 3 [8960/60000 (15%)]\tLoss: 0.580065\n",
      "Train Epoch: 3 [9600/60000 (16%)]\tLoss: 0.265042\n",
      "Train Epoch: 3 [10240/60000 (17%)]\tLoss: 0.677130\n",
      "Train Epoch: 3 [10880/60000 (18%)]\tLoss: 0.486141\n",
      "Train Epoch: 3 [11520/60000 (19%)]\tLoss: 0.548198\n",
      "Train Epoch: 3 [12160/60000 (20%)]\tLoss: 0.533649\n",
      "Train Epoch: 3 [12800/60000 (21%)]\tLoss: 0.446689\n",
      "Train Epoch: 3 [13440/60000 (22%)]\tLoss: 0.434510\n",
      "Train Epoch: 3 [14080/60000 (23%)]\tLoss: 0.462949\n",
      "Train Epoch: 3 [14720/60000 (25%)]\tLoss: 0.451103\n",
      "Train Epoch: 3 [15360/60000 (26%)]\tLoss: 0.373045\n",
      "Train Epoch: 3 [16000/60000 (27%)]\tLoss: 0.464096\n",
      "Train Epoch: 3 [16640/60000 (28%)]\tLoss: 0.409222\n",
      "Train Epoch: 3 [17280/60000 (29%)]\tLoss: 0.374731\n",
      "Train Epoch: 3 [17920/60000 (30%)]\tLoss: 0.571948\n",
      "Train Epoch: 3 [18560/60000 (31%)]\tLoss: 0.421245\n",
      "Train Epoch: 3 [19200/60000 (32%)]\tLoss: 0.367988\n",
      "Train Epoch: 3 [19840/60000 (33%)]\tLoss: 0.371897\n",
      "Train Epoch: 3 [20480/60000 (34%)]\tLoss: 0.443765\n",
      "Train Epoch: 3 [21120/60000 (35%)]\tLoss: 0.395096\n",
      "Train Epoch: 3 [21760/60000 (36%)]\tLoss: 0.360405\n",
      "Train Epoch: 3 [22400/60000 (37%)]\tLoss: 0.301758\n",
      "Train Epoch: 3 [23040/60000 (38%)]\tLoss: 0.617630\n",
      "Train Epoch: 3 [23680/60000 (39%)]\tLoss: 0.324174\n",
      "Train Epoch: 3 [24320/60000 (41%)]\tLoss: 0.338212\n",
      "Train Epoch: 3 [24960/60000 (42%)]\tLoss: 0.560300\n",
      "Train Epoch: 3 [25600/60000 (43%)]\tLoss: 0.380840\n",
      "Train Epoch: 3 [26240/60000 (44%)]\tLoss: 0.508559\n",
      "Train Epoch: 3 [26880/60000 (45%)]\tLoss: 0.309848\n",
      "Train Epoch: 3 [27520/60000 (46%)]\tLoss: 0.270184\n",
      "Train Epoch: 3 [28160/60000 (47%)]\tLoss: 0.443408\n",
      "Train Epoch: 3 [28800/60000 (48%)]\tLoss: 0.403121\n",
      "Train Epoch: 3 [29440/60000 (49%)]\tLoss: 0.517548\n",
      "Train Epoch: 3 [30080/60000 (50%)]\tLoss: 0.823069\n",
      "Train Epoch: 3 [30720/60000 (51%)]\tLoss: 0.380279\n",
      "Train Epoch: 3 [31360/60000 (52%)]\tLoss: 0.421570\n",
      "Train Epoch: 3 [32000/60000 (53%)]\tLoss: 0.178419\n",
      "Train Epoch: 3 [32640/60000 (54%)]\tLoss: 0.228875\n",
      "Train Epoch: 3 [33280/60000 (55%)]\tLoss: 0.372336\n",
      "Train Epoch: 3 [33920/60000 (57%)]\tLoss: 0.455830\n",
      "Train Epoch: 3 [34560/60000 (58%)]\tLoss: 0.558375\n",
      "Train Epoch: 3 [35200/60000 (59%)]\tLoss: 0.219630\n",
      "Train Epoch: 3 [35840/60000 (60%)]\tLoss: 0.461096\n",
      "Train Epoch: 3 [36480/60000 (61%)]\tLoss: 0.604162\n",
      "Train Epoch: 3 [37120/60000 (62%)]\tLoss: 0.340416\n",
      "Train Epoch: 3 [37760/60000 (63%)]\tLoss: 0.375458\n",
      "Train Epoch: 3 [38400/60000 (64%)]\tLoss: 0.273162\n",
      "Train Epoch: 3 [39040/60000 (65%)]\tLoss: 0.418682\n",
      "Train Epoch: 3 [39680/60000 (66%)]\tLoss: 0.307665\n",
      "Train Epoch: 3 [40320/60000 (67%)]\tLoss: 0.258279\n",
      "Train Epoch: 3 [40960/60000 (68%)]\tLoss: 0.378362\n",
      "Train Epoch: 3 [41600/60000 (69%)]\tLoss: 0.249881\n",
      "Train Epoch: 3 [42240/60000 (70%)]\tLoss: 0.220288\n",
      "Train Epoch: 3 [42880/60000 (71%)]\tLoss: 0.335674\n",
      "Train Epoch: 3 [43520/60000 (72%)]\tLoss: 0.381881\n",
      "Train Epoch: 3 [44160/60000 (74%)]\tLoss: 0.237417\n",
      "Train Epoch: 3 [44800/60000 (75%)]\tLoss: 0.265776\n",
      "Train Epoch: 3 [45440/60000 (76%)]\tLoss: 0.347844\n",
      "Train Epoch: 3 [46080/60000 (77%)]\tLoss: 0.398524\n",
      "Train Epoch: 3 [46720/60000 (78%)]\tLoss: 0.550844\n",
      "Train Epoch: 3 [47360/60000 (79%)]\tLoss: 0.331517\n",
      "Train Epoch: 3 [48000/60000 (80%)]\tLoss: 0.291431\n",
      "Train Epoch: 3 [48640/60000 (81%)]\tLoss: 0.393633\n",
      "Train Epoch: 3 [49280/60000 (82%)]\tLoss: 0.564937\n",
      "Train Epoch: 3 [49920/60000 (83%)]\tLoss: 0.349749\n",
      "Train Epoch: 3 [50560/60000 (84%)]\tLoss: 0.438983\n",
      "Train Epoch: 3 [51200/60000 (85%)]\tLoss: 0.408171\n",
      "Train Epoch: 3 [51840/60000 (86%)]\tLoss: 0.287638\n",
      "Train Epoch: 3 [52480/60000 (87%)]\tLoss: 0.663988\n",
      "Train Epoch: 3 [53120/60000 (88%)]\tLoss: 0.434672\n",
      "Train Epoch: 3 [53760/60000 (90%)]\tLoss: 0.472564\n",
      "Train Epoch: 3 [54400/60000 (91%)]\tLoss: 0.540497\n",
      "Train Epoch: 3 [55040/60000 (92%)]\tLoss: 0.508209\n",
      "Train Epoch: 3 [55680/60000 (93%)]\tLoss: 0.394271\n",
      "Train Epoch: 3 [56320/60000 (94%)]\tLoss: 0.511334\n",
      "Train Epoch: 3 [56960/60000 (95%)]\tLoss: 0.482670\n",
      "Train Epoch: 3 [57600/60000 (96%)]\tLoss: 0.136698\n",
      "Train Epoch: 3 [58240/60000 (97%)]\tLoss: 0.198434\n",
      "Train Epoch: 3 [58880/60000 (98%)]\tLoss: 0.404308\n",
      "Train Epoch: 3 [59520/60000 (99%)]\tLoss: 0.271020\n",
      "\n",
      "Test set: Avg. loss: 0.3888, Accuracy: 8755/10000 (88%)\n",
      "\n"
     ]
    }
   ],
   "source": [
    "test()\n",
    "for epoch in range(1, n_epochs + 1):\n",
    "    train(epoch)\n",
    "    test()"
   ]
  },
  {
   "cell_type": "code",
   "execution_count": 71,
   "metadata": {},
   "outputs": [
    {
     "data": {
      "image/png": "[encoded data removed]",
      "text/plain": [
       "<Figure size 432x288 with 1 Axes>"
      ]
     },
     "metadata": {
      "needs_background": "light"
     },
     "output_type": "display_data"
    }
   ],
   "source": [
    "fig = plt.figure()\n",
    "plt.plot(train_counter, train_losses, color='blue')\n",
    "#plt.scatter(test_counter, test_losses, color='red')\n",
    "plt.legend(['Training Loss', 'Test Loss'], loc='upper right')\n",
    "plt.xlabel('Total Number of Instances Trained on')\n",
    "plt.ylabel('Negative Log Likelihood Loss')\n",
    "plt.show()"
   ]
  },
  {
   "cell_type": "code",
   "execution_count": null,
   "metadata": {},
   "outputs": [],
   "source": []
  },
  {
   "cell_type": "code",
   "execution_count": null,
   "metadata": {},
   "outputs": [],
   "source": []
  },
  {
   "cell_type": "code",
   "execution_count": null,
   "metadata": {},
   "outputs": [],
   "source": []
  },
  {
   "cell_type": "code",
   "execution_count": null,
   "metadata": {},
   "outputs": [],
   "source": []
  }
 ],
 "metadata": {
  "kernelspec": {
   "display_name": "Python 3",
   "language": "python",
   "name": "python3"
  },
  "language_info": {
   "codemirror_mode": {
    "name": "ipython",
    "version": 3
   },
   "file_extension": ".py",
   "mimetype": "text/x-python",
   "name": "python",
   "nbconvert_exporter": "python",
   "pygments_lexer": "ipython3",
   "version": "3.6.5"
  }
 },
 "nbformat": 4,
 "nbformat_minor": 2
}
